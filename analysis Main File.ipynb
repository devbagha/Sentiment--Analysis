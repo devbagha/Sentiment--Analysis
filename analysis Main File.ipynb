{
 "cells": [
  {
   "cell_type": "code",
   "execution_count": 28,
   "id": "368b2735",
   "metadata": {},
   "outputs": [],
   "source": [
    "import pandas as pd \n",
    "import matplotlib.pyplot as plt\n",
    "import seaborn as sns\n",
    "import numpy as np\n"
   ]
  },
  {
   "cell_type": "markdown",
   "id": "ac3d565d",
   "metadata": {},
   "source": [
    "### Data Collection \n"
   ]
  },
  {
   "cell_type": "code",
   "execution_count": 29,
   "id": "d8eb9857",
   "metadata": {},
   "outputs": [],
   "source": [
    "df_train = pd.read_csv('train_datas.csv')   ### training dataset \n"
   ]
  },
  {
   "cell_type": "code",
   "execution_count": 30,
   "id": "6484e09d",
   "metadata": {},
   "outputs": [
    {
     "data": {
      "text/html": [
       "<div>\n",
       "<style scoped>\n",
       "    .dataframe tbody tr th:only-of-type {\n",
       "        vertical-align: middle;\n",
       "    }\n",
       "\n",
       "    .dataframe tbody tr th {\n",
       "        vertical-align: top;\n",
       "    }\n",
       "\n",
       "    .dataframe thead th {\n",
       "        text-align: right;\n",
       "    }\n",
       "</style>\n",
       "<table border=\"1\" class=\"dataframe\">\n",
       "  <thead>\n",
       "    <tr style=\"text-align: right;\">\n",
       "      <th></th>\n",
       "      <th>name</th>\n",
       "      <th>brand</th>\n",
       "      <th>categories</th>\n",
       "      <th>primaryCategories</th>\n",
       "      <th>reviews.date</th>\n",
       "      <th>reviews.text</th>\n",
       "      <th>reviews.title</th>\n",
       "      <th>sentiment</th>\n",
       "    </tr>\n",
       "  </thead>\n",
       "  <tbody>\n",
       "    <tr>\n",
       "      <th>0</th>\n",
       "      <td>All-New Fire HD 8 Tablet, 8\" HD Display, Wi-Fi...</td>\n",
       "      <td>Amazon</td>\n",
       "      <td>Electronics,iPad &amp; Tablets,All Tablets,Fire Ta...</td>\n",
       "      <td>Electronics</td>\n",
       "      <td>2016-12-26T00:00:00.000Z</td>\n",
       "      <td>Purchased on Black FridayPros - Great Price (e...</td>\n",
       "      <td>Powerful tablet</td>\n",
       "      <td>Positive</td>\n",
       "    </tr>\n",
       "    <tr>\n",
       "      <th>1</th>\n",
       "      <td>Amazon - Echo Plus w/ Built-In Hub - Silver</td>\n",
       "      <td>Amazon</td>\n",
       "      <td>Amazon Echo,Smart Home,Networking,Home &amp; Tools...</td>\n",
       "      <td>Electronics,Hardware</td>\n",
       "      <td>2018-01-17T00:00:00.000Z</td>\n",
       "      <td>I purchased two Amazon in Echo Plus and two do...</td>\n",
       "      <td>Amazon Echo Plus AWESOME</td>\n",
       "      <td>Positive</td>\n",
       "    </tr>\n",
       "    <tr>\n",
       "      <th>2</th>\n",
       "      <td>Amazon Echo Show Alexa-enabled Bluetooth Speak...</td>\n",
       "      <td>Amazon</td>\n",
       "      <td>Amazon Echo,Virtual Assistant Speakers,Electro...</td>\n",
       "      <td>Electronics,Hardware</td>\n",
       "      <td>2017-12-20T00:00:00.000Z</td>\n",
       "      <td>Just an average Alexa option. Does show a few ...</td>\n",
       "      <td>Average</td>\n",
       "      <td>Neutral</td>\n",
       "    </tr>\n",
       "    <tr>\n",
       "      <th>3</th>\n",
       "      <td>Fire HD 10 Tablet, 10.1 HD Display, Wi-Fi, 16 ...</td>\n",
       "      <td>Amazon</td>\n",
       "      <td>eBook Readers,Fire Tablets,Electronics Feature...</td>\n",
       "      <td>Office Supplies,Electronics</td>\n",
       "      <td>2017-08-04T00:00:00.000Z</td>\n",
       "      <td>very good product. Exactly what I wanted, and ...</td>\n",
       "      <td>Greattttttt</td>\n",
       "      <td>Positive</td>\n",
       "    </tr>\n",
       "    <tr>\n",
       "      <th>4</th>\n",
       "      <td>Brand New Amazon Kindle Fire 16gb 7\" Ips Displ...</td>\n",
       "      <td>Amazon</td>\n",
       "      <td>Computers/Tablets &amp; Networking,Tablets &amp; eBook...</td>\n",
       "      <td>Electronics</td>\n",
       "      <td>2017-01-23T00:00:00.000Z</td>\n",
       "      <td>This is the 3rd one I've purchased. I've bough...</td>\n",
       "      <td>Very durable!</td>\n",
       "      <td>Positive</td>\n",
       "    </tr>\n",
       "    <tr>\n",
       "      <th>...</th>\n",
       "      <td>...</td>\n",
       "      <td>...</td>\n",
       "      <td>...</td>\n",
       "      <td>...</td>\n",
       "      <td>...</td>\n",
       "      <td>...</td>\n",
       "      <td>...</td>\n",
       "      <td>...</td>\n",
       "    </tr>\n",
       "    <tr>\n",
       "      <th>3995</th>\n",
       "      <td>Amazon - Echo Plus w/ Built-In Hub - Silver</td>\n",
       "      <td>Amazon</td>\n",
       "      <td>Amazon Echo,Smart Home,Networking,Home &amp; Tools...</td>\n",
       "      <td>Electronics,Hardware</td>\n",
       "      <td>2017-12-08T00:00:00.000Z</td>\n",
       "      <td>It‚Äôs fun for the family to play with, but it...</td>\n",
       "      <td>Fun toy</td>\n",
       "      <td>Positive</td>\n",
       "    </tr>\n",
       "    <tr>\n",
       "      <th>3996</th>\n",
       "      <td>Amazon Kindle E-Reader 6\" Wifi (8th Generation...</td>\n",
       "      <td>Amazon</td>\n",
       "      <td>Computers,Electronics Features,Tablets,Electro...</td>\n",
       "      <td>Electronics</td>\n",
       "      <td>2017-03-31T00:00:00.000Z</td>\n",
       "      <td>I love the Kindle, it is a great product. It r...</td>\n",
       "      <td>Great Product</td>\n",
       "      <td>Positive</td>\n",
       "    </tr>\n",
       "    <tr>\n",
       "      <th>3997</th>\n",
       "      <td>Amazon Tap - Alexa-Enabled Portable Bluetooth ...</td>\n",
       "      <td>Amazon</td>\n",
       "      <td>Amazon Echo,Home Theater &amp; Audio,MP3 MP4 Playe...</td>\n",
       "      <td>Electronics</td>\n",
       "      <td>2017-01-19T00:00:00.000Z</td>\n",
       "      <td>I was looking for a blutooth speaker to use wi...</td>\n",
       "      <td>Great \"dumb\" speaker</td>\n",
       "      <td>Positive</td>\n",
       "    </tr>\n",
       "    <tr>\n",
       "      <th>3998</th>\n",
       "      <td>Brand New Amazon Kindle Fire 16gb 7\" Ips Displ...</td>\n",
       "      <td>Amazon</td>\n",
       "      <td>Computers/Tablets &amp; Networking,Tablets &amp; eBook...</td>\n",
       "      <td>Electronics</td>\n",
       "      <td>2016-05-27T00:00:00.000Z</td>\n",
       "      <td>This is the second Amazon Fire 7 tablet I have...</td>\n",
       "      <td>A great 7 inch tablet at a great price</td>\n",
       "      <td>Positive</td>\n",
       "    </tr>\n",
       "    <tr>\n",
       "      <th>3999</th>\n",
       "      <td>All-New Fire HD 8 Tablet, 8\" HD Display, Wi-Fi...</td>\n",
       "      <td>Amazon</td>\n",
       "      <td>Electronics,iPad &amp; Tablets,All Tablets,Fire Ta...</td>\n",
       "      <td>Electronics</td>\n",
       "      <td>2016-12-30T00:00:00.000Z</td>\n",
       "      <td>very satisfied with tablet, very fast and effi...</td>\n",
       "      <td>Gets the job done</td>\n",
       "      <td>Positive</td>\n",
       "    </tr>\n",
       "  </tbody>\n",
       "</table>\n",
       "<p>4000 rows × 8 columns</p>\n",
       "</div>"
      ],
      "text/plain": [
       "                                                   name   brand  \\\n",
       "0     All-New Fire HD 8 Tablet, 8\" HD Display, Wi-Fi...  Amazon   \n",
       "1           Amazon - Echo Plus w/ Built-In Hub - Silver  Amazon   \n",
       "2     Amazon Echo Show Alexa-enabled Bluetooth Speak...  Amazon   \n",
       "3     Fire HD 10 Tablet, 10.1 HD Display, Wi-Fi, 16 ...  Amazon   \n",
       "4     Brand New Amazon Kindle Fire 16gb 7\" Ips Displ...  Amazon   \n",
       "...                                                 ...     ...   \n",
       "3995        Amazon - Echo Plus w/ Built-In Hub - Silver  Amazon   \n",
       "3996  Amazon Kindle E-Reader 6\" Wifi (8th Generation...  Amazon   \n",
       "3997  Amazon Tap - Alexa-Enabled Portable Bluetooth ...  Amazon   \n",
       "3998  Brand New Amazon Kindle Fire 16gb 7\" Ips Displ...  Amazon   \n",
       "3999  All-New Fire HD 8 Tablet, 8\" HD Display, Wi-Fi...  Amazon   \n",
       "\n",
       "                                             categories  \\\n",
       "0     Electronics,iPad & Tablets,All Tablets,Fire Ta...   \n",
       "1     Amazon Echo,Smart Home,Networking,Home & Tools...   \n",
       "2     Amazon Echo,Virtual Assistant Speakers,Electro...   \n",
       "3     eBook Readers,Fire Tablets,Electronics Feature...   \n",
       "4     Computers/Tablets & Networking,Tablets & eBook...   \n",
       "...                                                 ...   \n",
       "3995  Amazon Echo,Smart Home,Networking,Home & Tools...   \n",
       "3996  Computers,Electronics Features,Tablets,Electro...   \n",
       "3997  Amazon Echo,Home Theater & Audio,MP3 MP4 Playe...   \n",
       "3998  Computers/Tablets & Networking,Tablets & eBook...   \n",
       "3999  Electronics,iPad & Tablets,All Tablets,Fire Ta...   \n",
       "\n",
       "                primaryCategories              reviews.date  \\\n",
       "0                     Electronics  2016-12-26T00:00:00.000Z   \n",
       "1            Electronics,Hardware  2018-01-17T00:00:00.000Z   \n",
       "2            Electronics,Hardware  2017-12-20T00:00:00.000Z   \n",
       "3     Office Supplies,Electronics  2017-08-04T00:00:00.000Z   \n",
       "4                     Electronics  2017-01-23T00:00:00.000Z   \n",
       "...                           ...                       ...   \n",
       "3995         Electronics,Hardware  2017-12-08T00:00:00.000Z   \n",
       "3996                  Electronics  2017-03-31T00:00:00.000Z   \n",
       "3997                  Electronics  2017-01-19T00:00:00.000Z   \n",
       "3998                  Electronics  2016-05-27T00:00:00.000Z   \n",
       "3999                  Electronics  2016-12-30T00:00:00.000Z   \n",
       "\n",
       "                                           reviews.text  \\\n",
       "0     Purchased on Black FridayPros - Great Price (e...   \n",
       "1     I purchased two Amazon in Echo Plus and two do...   \n",
       "2     Just an average Alexa option. Does show a few ...   \n",
       "3     very good product. Exactly what I wanted, and ...   \n",
       "4     This is the 3rd one I've purchased. I've bough...   \n",
       "...                                                 ...   \n",
       "3995  It‚Äôs fun for the family to play with, but it...   \n",
       "3996  I love the Kindle, it is a great product. It r...   \n",
       "3997  I was looking for a blutooth speaker to use wi...   \n",
       "3998  This is the second Amazon Fire 7 tablet I have...   \n",
       "3999  very satisfied with tablet, very fast and effi...   \n",
       "\n",
       "                               reviews.title sentiment  \n",
       "0                            Powerful tablet  Positive  \n",
       "1                   Amazon Echo Plus AWESOME  Positive  \n",
       "2                                    Average   Neutral  \n",
       "3                                Greattttttt  Positive  \n",
       "4                              Very durable!  Positive  \n",
       "...                                      ...       ...  \n",
       "3995                                 Fun toy  Positive  \n",
       "3996                           Great Product  Positive  \n",
       "3997                    Great \"dumb\" speaker  Positive  \n",
       "3998  A great 7 inch tablet at a great price  Positive  \n",
       "3999                       Gets the job done  Positive  \n",
       "\n",
       "[4000 rows x 8 columns]"
      ]
     },
     "execution_count": 30,
     "metadata": {},
     "output_type": "execute_result"
    }
   ],
   "source": [
    "df_train"
   ]
  },
  {
   "cell_type": "code",
   "execution_count": 31,
   "id": "358fb43e",
   "metadata": {},
   "outputs": [
    {
     "data": {
      "text/plain": [
       "58"
      ]
     },
     "execution_count": 31,
     "metadata": {},
     "output_type": "execute_result"
    }
   ],
   "source": [
    "df_train.duplicated().sum()"
   ]
  },
  {
   "cell_type": "code",
   "execution_count": 32,
   "id": "49b69c5c",
   "metadata": {},
   "outputs": [],
   "source": [
    "df_train = df_train.drop_duplicates().reset_index(drop=True)  ### removing duplocates we've 58 in the training dataset "
   ]
  },
  {
   "cell_type": "code",
   "execution_count": 36,
   "id": "5eafb859",
   "metadata": {},
   "outputs": [
    {
     "data": {
      "text/plain": [
       "Positive    194\n",
       "Neutral     158\n",
       "Negative     90\n",
       "Name: sentiment, dtype: int64"
      ]
     },
     "execution_count": 36,
     "metadata": {},
     "output_type": "execute_result"
    },
    {
     "data": {
      "image/png": "[encoded data removed]",
      "text/plain": [
       "<Figure size 640x480 with 1 Axes>"
      ]
     },
     "metadata": {},
     "output_type": "display_data"
    }
   ],
   "source": [
    "sns.countplot( x= df_train['sentiment'])\n",
    "df_train['sentiment'].value_counts()"
   ]
  },
  {
   "cell_type": "code",
   "execution_count": 34,
   "id": "307a7b64",
   "metadata": {},
   "outputs": [],
   "source": [
    "rows_to_remove = df_train[df_train['sentiment'].str.contains('Positive')].head(3500)    \n",
    "\n",
    "# Drop the selected rows from the DataFrame  to resolve class imbalance \n",
    "df_train = df_train.drop(rows_to_remove.index)  "
   ]
  },
  {
   "cell_type": "code",
   "execution_count": 35,
   "id": "2964f49c",
   "metadata": {},
   "outputs": [
    {
     "data": {
      "text/plain": [
       "(442, 8)"
      ]
     },
     "execution_count": 35,
     "metadata": {},
     "output_type": "execute_result"
    }
   ],
   "source": [
    "df_train.shape"
   ]
  },
  {
   "cell_type": "markdown",
   "id": "be87e2be",
   "metadata": {},
   "source": [
    "<h3>Data Preprocessing</h3>"
   ]
  },
  {
   "cell_type": "code",
   "execution_count": 37,
   "id": "ab09a7bd",
   "metadata": {},
   "outputs": [
    {
     "name": "stderr",
     "output_type": "stream",
     "text": [
      "[nltk_data] Downloading package stopwords to C:\\Users\\WN-081\n",
      "[nltk_data]     u\\AppData\\Roaming\\nltk_data...\n",
      "[nltk_data]   Package stopwords is already up-to-date!\n"
     ]
    }
   ],
   "source": [
    "import nltk\n",
    "nltk.download('stopwords')\n",
    "from nltk.corpus import stopwords"
   ]
  },
  {
   "cell_type": "code",
   "execution_count": 38,
   "id": "3d2f2ebc",
   "metadata": {},
   "outputs": [
    {
     "name": "stderr",
     "output_type": "stream",
     "text": [
      "[nltk_data] Downloading package punkt to C:\\Users\\WN-081\n",
      "[nltk_data]     u\\AppData\\Roaming\\nltk_data...\n",
      "[nltk_data]   Package punkt is already up-to-date!\n"
     ]
    },
    {
     "data": {
      "text/plain": [
       "True"
      ]
     },
     "execution_count": 38,
     "metadata": {},
     "output_type": "execute_result"
    }
   ],
   "source": [
    "nltk.download('punkt')"
   ]
  },
  {
   "cell_type": "code",
   "execution_count": 39,
   "id": "4b4794d9",
   "metadata": {},
   "outputs": [],
   "source": [
    "from sklearn.feature_extraction.text import CountVectorizer\n",
    "from sklearn.model_selection import train_test_split\n",
    "from sklearn.naive_bayes import MultinomialNB\n",
    "from sklearn.metrics import confusion_matrix,classification_report,accuracy_score\n"
   ]
  },
  {
   "cell_type": "code",
   "execution_count": 40,
   "id": "12d9db23",
   "metadata": {},
   "outputs": [
    {
     "data": {
      "text/plain": [
       "Index(['name', 'brand', 'categories', 'primaryCategories', 'reviews.date',\n",
       "       'reviews.text', 'reviews.title', 'sentiment'],\n",
       "      dtype='object')"
      ]
     },
     "execution_count": 40,
     "metadata": {},
     "output_type": "execute_result"
    }
   ],
   "source": [
    "df_train.columns"
   ]
  },
  {
   "cell_type": "code",
   "execution_count": 41,
   "id": "7d40f916",
   "metadata": {},
   "outputs": [],
   "source": [
    "import re\n",
    "from nltk.tokenize import word_tokenize\n",
    "from nltk.corpus import stopwords\n",
    "\n",
    "\n",
    "def preprocess_text(text):\n",
    "    try:\n",
    "        text = text.lower()  # Convert to lowercase\n",
    "        text = re.sub(r'\\W+', ' ', text)  # Remove special characters\n",
    "        words = word_tokenize(text)  # Tokenize text\n",
    "        words = [word for word in words if word not in stopwords.words('english')]  # Remove stopwords\n",
    "        return ' '.join(words)\n",
    "    except:\n",
    "        return 1\n",
    "df_train['preprocessed_text'] = df_train['reviews.text'].apply(preprocess_text)\n"
   ]
  },
  {
   "cell_type": "code",
   "execution_count": 42,
   "id": "58c730b7",
   "metadata": {},
   "outputs": [
    {
     "data": {
      "text/plain": [
       "2       average alexa option show things screen still ...\n",
       "6       7 year old daughter saved brother bought 8gb y...\n",
       "9                   cheap run chrome stuff returned store\n",
       "17                      good old kindle seams work better\n",
       "59      nothing spectacular item also nothing majorly ...\n",
       "                              ...                        \n",
       "3937    äôs fun family play may get boring newness wea...\n",
       "3938    love kindle great product reduces eye strain e...\n",
       "3939    looking blutooth speaker use phone want worry ...\n",
       "3940    second amazon fire 7 tablet purchased time col...\n",
       "3941                      satisfied tablet fast efficient\n",
       "Name: preprocessed_text, Length: 442, dtype: object"
      ]
     },
     "execution_count": 42,
     "metadata": {},
     "output_type": "execute_result"
    }
   ],
   "source": [
    "df_train['preprocessed_text']"
   ]
  },
  {
   "cell_type": "code",
   "execution_count": 47,
   "id": "02450137",
   "metadata": {},
   "outputs": [],
   "source": [
    "X_train, X_test, y_train, y_test = train_test_split(df_train['preprocessed_text'], df_train['sentiment'], test_size=0.2, random_state=52)"
   ]
  },
  {
   "cell_type": "code",
   "execution_count": 48,
   "id": "731e860a",
   "metadata": {},
   "outputs": [],
   "source": [
    "from sklearn.model_selection import  cross_val_score\n"
   ]
  },
  {
   "cell_type": "code",
   "execution_count": 49,
   "id": "49e4c5df",
   "metadata": {},
   "outputs": [],
   "source": [
    "vectorizer = CountVectorizer()\n",
    "X_train_vec = vectorizer.fit_transform(X_train)\n",
    "X_test_vec = vectorizer.transform(X_test)\n"
   ]
  },
  {
   "cell_type": "markdown",
   "id": "c3bf4157",
   "metadata": {},
   "source": [
    "<h3>Naive Bayes</h3>"
   ]
  },
  {
   "cell_type": "code",
   "execution_count": 50,
   "id": "41b2672b",
   "metadata": {},
   "outputs": [
    {
     "data": {
      "text/html": [
       "<style>#sk-container-id-3 {color: black;}#sk-container-id-3 pre{padding: 0;}#sk-container-id-3 div.sk-toggleable {background-color: white;}#sk-container-id-3 label.sk-toggleable__label {cursor: pointer;display: block;width: 100%;margin-bottom: 0;padding: 0.3em;box-sizing: border-box;text-align: center;}#sk-container-id-3 label.sk-toggleable__label-arrow:before {content: \"▸\";float: left;margin-right: 0.25em;color: #696969;}#sk-container-id-3 label.sk-toggleable__label-arrow:hover:before {color: black;}#sk-container-id-3 div.sk-estimator:hover label.sk-toggleable__label-arrow:before {color: black;}#sk-container-id-3 div.sk-toggleable__content {max-height: 0;max-width: 0;overflow: hidden;text-align: left;background-color: #f0f8ff;}#sk-container-id-3 div.sk-toggleable__content pre {margin: 0.2em;color: black;border-radius: 0.25em;background-color: #f0f8ff;}#sk-container-id-3 input.sk-toggleable__control:checked~div.sk-toggleable__content {max-height: 200px;max-width: 100%;overflow: auto;}#sk-container-id-3 input.sk-toggleable__control:checked~label.sk-toggleable__label-arrow:before {content: \"▾\";}#sk-container-id-3 div.sk-estimator input.sk-toggleable__control:checked~label.sk-toggleable__label {background-color: #d4ebff;}#sk-container-id-3 div.sk-label input.sk-toggleable__control:checked~label.sk-toggleable__label {background-color: #d4ebff;}#sk-container-id-3 input.sk-hidden--visually {border: 0;clip: rect(1px 1px 1px 1px);clip: rect(1px, 1px, 1px, 1px);height: 1px;margin: -1px;overflow: hidden;padding: 0;position: absolute;width: 1px;}#sk-container-id-3 div.sk-estimator {font-family: monospace;background-color: #f0f8ff;border: 1px dotted black;border-radius: 0.25em;box-sizing: border-box;margin-bottom: 0.5em;}#sk-container-id-3 div.sk-estimator:hover {background-color: #d4ebff;}#sk-container-id-3 div.sk-parallel-item::after {content: \"\";width: 100%;border-bottom: 1px solid gray;flex-grow: 1;}#sk-container-id-3 div.sk-label:hover label.sk-toggleable__label {background-color: #d4ebff;}#sk-container-id-3 div.sk-serial::before {content: \"\";position: absolute;border-left: 1px solid gray;box-sizing: border-box;top: 0;bottom: 0;left: 50%;z-index: 0;}#sk-container-id-3 div.sk-serial {display: flex;flex-direction: column;align-items: center;background-color: white;padding-right: 0.2em;padding-left: 0.2em;position: relative;}#sk-container-id-3 div.sk-item {position: relative;z-index: 1;}#sk-container-id-3 div.sk-parallel {display: flex;align-items: stretch;justify-content: center;background-color: white;position: relative;}#sk-container-id-3 div.sk-item::before, #sk-container-id-3 div.sk-parallel-item::before {content: \"\";position: absolute;border-left: 1px solid gray;box-sizing: border-box;top: 0;bottom: 0;left: 50%;z-index: -1;}#sk-container-id-3 div.sk-parallel-item {display: flex;flex-direction: column;z-index: 1;position: relative;background-color: white;}#sk-container-id-3 div.sk-parallel-item:first-child::after {align-self: flex-end;width: 50%;}#sk-container-id-3 div.sk-parallel-item:last-child::after {align-self: flex-start;width: 50%;}#sk-container-id-3 div.sk-parallel-item:only-child::after {width: 0;}#sk-container-id-3 div.sk-dashed-wrapped {border: 1px dashed gray;margin: 0 0.4em 0.5em 0.4em;box-sizing: border-box;padding-bottom: 0.4em;background-color: white;}#sk-container-id-3 div.sk-label label {font-family: monospace;font-weight: bold;display: inline-block;line-height: 1.2em;}#sk-container-id-3 div.sk-label-container {text-align: center;}#sk-container-id-3 div.sk-container {/* jupyter's `normalize.less` sets `[hidden] { display: none; }` but bootstrap.min.css set `[hidden] { display: none !important; }` so we also need the `!important` here to be able to override the default hidden behavior on the sphinx rendered scikit-learn.org. See: https://github.com/scikit-learn/scikit-learn/issues/21755 */display: inline-block !important;position: relative;}#sk-container-id-3 div.sk-text-repr-fallback {display: none;}</style><div id=\"sk-container-id-3\" class=\"sk-top-container\"><div class=\"sk-text-repr-fallback\"><pre>MultinomialNB()</pre><b>In a Jupyter environment, please rerun this cell to show the HTML representation or trust the notebook. <br />On GitHub, the HTML representation is unable to render, please try loading this page with nbviewer.org.</b></div><div class=\"sk-container\" hidden><div class=\"sk-item\"><div class=\"sk-estimator sk-toggleable\"><input class=\"sk-toggleable__control sk-hidden--visually\" id=\"sk-estimator-id-3\" type=\"checkbox\" checked><label for=\"sk-estimator-id-3\" class=\"sk-toggleable__label sk-toggleable__label-arrow\">MultinomialNB</label><div class=\"sk-toggleable__content\"><pre>MultinomialNB()</pre></div></div></div></div></div>"
      ],
      "text/plain": [
       "MultinomialNB()"
      ]
     },
     "execution_count": 50,
     "metadata": {},
     "output_type": "execute_result"
    }
   ],
   "source": [
    "model = MultinomialNB()\n",
    "model.fit(X_train_vec, y_train)\n"
   ]
  },
  {
   "cell_type": "code",
   "execution_count": 51,
   "id": "01937088",
   "metadata": {},
   "outputs": [
    {
     "name": "stdout",
     "output_type": "stream",
     "text": [
      "Cross-validation scores: [0.61797753 0.60227273 0.59090909 0.55681818]\n",
      "Mean accuracy: 0.5919943820224719\n"
     ]
    }
   ],
   "source": [
    "num_folds = 4  # Change this value as needed\n",
    "scores = cross_val_score(model, X_train_vec, y_train, cv=num_folds, scoring='accuracy')\n",
    "\n",
    "# Print the cross-validation scores\n",
    "print(\"Cross-validation scores:\", scores)\n",
    "print(\"Mean accuracy:\", scores.mean())"
   ]
  },
  {
   "cell_type": "code",
   "execution_count": 54,
   "id": "c264a840",
   "metadata": {},
   "outputs": [
    {
     "name": "stdout",
     "output_type": "stream",
     "text": [
      "Naive Bayes \n",
      "\n",
      "\n",
      "Accuracy: 0.6179775280898876\n",
      "\n",
      "\n",
      "Confusion matrix :\n",
      " [[ 7  8  5]\n",
      " [ 1 21 10]\n",
      " [ 0 10 27]] \n",
      "\n",
      "\n",
      "Classification Report:\n",
      "               precision    recall  f1-score   support\n",
      "\n",
      "    Negative       0.88      0.35      0.50        20\n",
      "     Neutral       0.54      0.66      0.59        32\n",
      "    Positive       0.64      0.73      0.68        37\n",
      "\n",
      "    accuracy                           0.62        89\n",
      "   macro avg       0.69      0.58      0.59        89\n",
      "weighted avg       0.66      0.62      0.61        89\n",
      "\n"
     ]
    }
   ],
   "source": [
    "y_pred = model.predict(X_test_vec)\n",
    "print(\"Naive Bayes \\n\\n\")\n",
    "# Calculate accuracy\n",
    "accuracy = accuracy_score(y_test, y_pred)\n",
    "print(\"Accuracy:\", accuracy)\n",
    "\n",
    "# Generate confusion metrix\n",
    "print(\"\\n\\nConfusion matrix :\\n\",confusion_matrix(y_test,y_pred),'\\n\\n')\n",
    "\n",
    "\n",
    "# Generate classification report\n",
    "report = classification_report(y_test, y_pred)\n",
    "print(\"Classification Report:\\n\", report)\n"
   ]
  },
  {
   "cell_type": "markdown",
   "id": "baf5d352",
   "metadata": {},
   "source": [
    "<h3>Decision Tree Classifier</h3>"
   ]
  },
  {
   "cell_type": "code",
   "execution_count": 55,
   "id": "1d5bb22f",
   "metadata": {},
   "outputs": [],
   "source": [
    "from sklearn.tree import DecisionTreeClassifier\n"
   ]
  },
  {
   "cell_type": "code",
   "execution_count": 57,
   "id": "dd06f95a",
   "metadata": {},
   "outputs": [
    {
     "name": "stdout",
     "output_type": "stream",
     "text": [
      "Decision Tree Classifier \n",
      "\n",
      "\n",
      "Accuracy: 0.5056179775280899\n",
      "\n",
      "\n",
      "Confusion matrix :\n",
      " [[10  7  3]\n",
      " [ 5 16 11]\n",
      " [ 4 14 19]] \n",
      "\n",
      "\n",
      "Classification Report:\n",
      "               precision    recall  f1-score   support\n",
      "\n",
      "    Negative       0.53      0.50      0.51        20\n",
      "     Neutral       0.43      0.50      0.46        32\n",
      "    Positive       0.58      0.51      0.54        37\n",
      "\n",
      "    accuracy                           0.51        89\n",
      "   macro avg       0.51      0.50      0.51        89\n",
      "weighted avg       0.51      0.51      0.51        89\n",
      "\n"
     ]
    }
   ],
   "source": [
    "d_tree = DecisionTreeClassifier()\n",
    "d_tree.fit(X_train_vec, y_train)\n",
    "\n",
    "y_pred = d_tree.predict(X_test_vec)\n",
    "\n",
    "print(\"Decision Tree Classifier \\n\\n\")\n",
    "# Calculate accuracy\n",
    "accuracy = accuracy_score(y_test, y_pred)\n",
    "print(\"Accuracy:\", accuracy)\n",
    "\n",
    "# Generate confusion metrix\n",
    "print(\"\\n\\nConfusion matrix :\\n\",confusion_matrix(y_test,y_pred),'\\n\\n')\n",
    "\n",
    "\n",
    "# Generate classification report\n",
    "report = classification_report(y_test, y_pred)\n",
    "print(\"Classification Report:\\n\", report)\n"
   ]
  },
  {
   "cell_type": "markdown",
   "id": "1c771543",
   "metadata": {},
   "source": [
    "<h3> SVC</h3>"
   ]
  },
  {
   "cell_type": "code",
   "execution_count": 58,
   "id": "eb020d02",
   "metadata": {},
   "outputs": [],
   "source": [
    "from sklearn.svm import SVC"
   ]
  },
  {
   "cell_type": "code",
   "execution_count": 60,
   "id": "3c733f3c",
   "metadata": {},
   "outputs": [
    {
     "name": "stdout",
     "output_type": "stream",
     "text": [
      "SVC\n",
      "\n",
      "\n",
      "Accuracy: 0.6404494382022472\n",
      "\n",
      "\n",
      "Confusion matrix :\n",
      " [[10  6  4]\n",
      " [ 5 18  9]\n",
      " [ 2  6 29]] \n",
      "\n",
      "\n",
      "Classification Report:\n",
      "               precision    recall  f1-score   support\n",
      "\n",
      "    Negative       0.59      0.50      0.54        20\n",
      "     Neutral       0.60      0.56      0.58        32\n",
      "    Positive       0.69      0.78      0.73        37\n",
      "\n",
      "    accuracy                           0.64        89\n",
      "   macro avg       0.63      0.62      0.62        89\n",
      "weighted avg       0.63      0.64      0.64        89\n",
      "\n"
     ]
    }
   ],
   "source": [
    "\n",
    "svc = SVC(kernel='linear')\n",
    "svc.fit(X_train_vec, y_train)\n",
    "\n",
    "y_pred = svc.predict(X_test_vec)\n",
    "print(\"SVC\\n\\n\")\n",
    "\n",
    "accuracy = accuracy_score(y_test, y_pred)\n",
    "print(\"Accuracy:\", accuracy)\n",
    "\n",
    "\n",
    "print(\"\\n\\nConfusion matrix :\\n\",confusion_matrix(y_test,y_pred),'\\n\\n')\n",
    "\n",
    "\n",
    "\n",
    "report = classification_report(y_test, y_pred)\n",
    "print(\"Classification Report:\\n\", report)"
   ]
  },
  {
   "cell_type": "code",
   "execution_count": 310,
   "id": "63d73f31",
   "metadata": {},
   "outputs": [
    {
     "name": "stdout",
     "output_type": "stream",
     "text": [
      "Predicted Sentiment: Neutral\n"
     ]
    }
   ],
   "source": [
    "# Preprocess the input text\n",
    "input_text = \"\"\"\n",
    "not too old\"\"\"\n",
    "preprocessed_input = preprocess_text(input_text)\n",
    "\n",
    "# Vectorize the preprocessed input\n",
    "input_vec = vectorizer.transform([preprocessed_input])\n",
    "\n",
    "# Predict the sentiment\n",
    "predicted_sentiment = svc.predict(input_vec)[0]\n",
    "\n",
    "print(\"Predicted Sentiment:\", predicted_sentiment)\n"
   ]
  },
  {
   "cell_type": "code",
   "execution_count": 297,
   "id": "3ea43134",
   "metadata": {},
   "outputs": [
    {
     "name": "stdout",
     "output_type": "stream",
     "text": [
      "Accuracy: 0.6404494382022472\n",
      "\n",
      "\n",
      "Confusion matrix :\n",
      " [[10  6  4]\n",
      " [ 5 18  9]\n",
      " [ 2  6 29]] \n",
      "\n",
      "\n",
      "Classification Report:\n",
      "               precision    recall  f1-score   support\n",
      "\n",
      "    Negative       0.59      0.50      0.54        20\n",
      "     Neutral       0.60      0.56      0.58        32\n",
      "    Positive       0.69      0.78      0.73        37\n",
      "\n",
      "    accuracy                           0.64        89\n",
      "   macro avg       0.63      0.62      0.62        89\n",
      "weighted avg       0.63      0.64      0.64        89\n",
      "\n"
     ]
    }
   ],
   "source": [
    "import pickle\n",
    "import re\n",
    "from nltk.tokenize import word_tokenize\n",
    "from nltk.corpus import stopwords\n",
    "\n",
    "df_train = pd.read_csv('train_datas.csv')   ### training dataset \n",
    "df_train = df_train.drop_duplicates().reset_index(drop=True)  ### removing duplocates we've 58 in the training dataset \n",
    "rows_to_remove = df_train[df_train['sentiment'].str.contains('Positive')].head(3500)    \n",
    "\n",
    "# Drop the selected rows from the DataFrame  to resolve class imbalance \n",
    "df_train = df_train.drop(rows_to_remove.index)  \n",
    "def preprocess_text(text):\n",
    "    try:\n",
    "        text = text.lower()  # Convert to lowercase\n",
    "        text = re.sub(r'\\W+', ' ', text)  # Remove special characters\n",
    "        words = word_tokenize(text)  # Tokenize text\n",
    "        words = [word for word in words if word not in stopwords.words('english')]  # Remove stopwords\n",
    "        return ' '.join(words)\n",
    "    except:\n",
    "        return 1\n",
    "df_train['preprocessed_text'] = df_train['reviews.text'].apply(preprocess_text)\n",
    "\n",
    "X_train, X_test, y_train, y_test = train_test_split(df_train['preprocessed_text'], df_train['sentiment'], test_size=0.2, random_state=52)\n",
    "\n",
    "vectorizer = CountVectorizer()\n",
    "X_train_vec = vectorizer.fit_transform(X_train)\n",
    "X_test_vec = vectorizer.transform(X_test)\n",
    "\n",
    "svc = SVC(kernel='linear')\n",
    "svc.fit(X_train_vec, y_train)\n",
    "\n",
    "y_pred = svc.predict(X_test_vec)\n",
    "\n",
    "accuracy = accuracy_score(y_test, y_pred)\n",
    "print(\"Accuracy:\", accuracy)\n",
    "print(\"\\n\\nConfusion matrix :\\n\",confusion_matrix(y_test,y_pred),'\\n\\n')\n",
    "\n",
    "report = classification_report(y_test, y_pred)\n",
    "print(\"Classification Report:\\n\", report)\n"
   ]
  },
  {
   "cell_type": "code",
   "execution_count": 298,
   "id": "8caa6d89",
   "metadata": {},
   "outputs": [],
   "source": [
    "import pickle\n"
   ]
  },
  {
   "cell_type": "code",
   "execution_count": 295,
   "id": "8a11185f",
   "metadata": {},
   "outputs": [],
   "source": []
  }
 ],
 "metadata": {
  "kernelspec": {
   "display_name": "Python 3 (ipykernel)",
   "language": "python",
   "name": "python3"
  },
  "language_info": {
   "codemirror_mode": {
    "name": "ipython",
    "version": 3
   },
   "file_extension": ".py",
   "mimetype": "text/x-python",
   "name": "python",
   "nbconvert_exporter": "python",
   "pygments_lexer": "ipython3",
   "version": "3.11.4"
  }
 },
 "nbformat": 4,
 "nbformat_minor": 5
}
